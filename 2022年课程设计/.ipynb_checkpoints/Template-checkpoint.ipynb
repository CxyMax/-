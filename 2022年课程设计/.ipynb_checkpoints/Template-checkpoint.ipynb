{
 "cells": [
  {
   "cell_type": "markdown",
   "metadata": {},
   "source": [
    "# 案例背景"
   ]
  },
  {
   "cell_type": "markdown",
   "metadata": {},
   "source": [
    "X银行营销数据集，是一个二分类任务。数据共有21个自变量属性，1个目标变量，目标变量代表的任务为预测客户是否会购买银行的定期存款业务。\n",
    "\n",
    "设计内容是在训练集bank.csv（41188条）上，利用numpy、pandas、matplotlib、sklearn等包，整理数据完成训练，将训练好的模型在预测集bank_prediction.csv（4119条）上做预测。"
   ]
  },
  {
   "cell_type": "markdown",
   "metadata": {
    "tags": []
   },
   "source": [
    "# 数据加载/概览"
   ]
  },
  {
   "cell_type": "code",
   "execution_count": 3695,
   "metadata": {
    "pycharm": {
     "is_executing": true
    },
    "tags": []
   },
   "outputs": [],
   "source": [
    "import numpy as np\n",
    "import pandas as pd\n",
    "import matplotlib.pyplot as plt\n",
    "import seaborn as sns\n",
    "plt.rcParams['font.sans-serif'] = ['KaiTi']"
   ]
  },
  {
   "cell_type": "code",
   "execution_count": 3696,
   "metadata": {
    "pycharm": {
     "is_executing": true
    },
    "scrolled": true,
    "tags": []
   },
   "outputs": [
    {
     "data": {
      "text/html": [
       "<div>\n",
       "<style scoped>\n",
       "    .dataframe tbody tr th:only-of-type {\n",
       "        vertical-align: middle;\n",
       "    }\n",
       "\n",
       "    .dataframe tbody tr th {\n",
       "        vertical-align: top;\n",
       "    }\n",
       "\n",
       "    .dataframe thead th {\n",
       "        text-align: right;\n",
       "    }\n",
       "</style>\n",
       "<table border=\"1\" class=\"dataframe\">\n",
       "  <thead>\n",
       "    <tr style=\"text-align: right;\">\n",
       "      <th></th>\n",
       "      <th>age</th>\n",
       "      <th>job</th>\n",
       "      <th>marital</th>\n",
       "      <th>education</th>\n",
       "      <th>default</th>\n",
       "      <th>housing</th>\n",
       "      <th>loan</th>\n",
       "      <th>contact</th>\n",
       "      <th>month</th>\n",
       "      <th>day_of_week</th>\n",
       "      <th>...</th>\n",
       "      <th>campaign</th>\n",
       "      <th>pdays</th>\n",
       "      <th>previous</th>\n",
       "      <th>poutcome</th>\n",
       "      <th>emp.var.rate</th>\n",
       "      <th>cons.price.idx</th>\n",
       "      <th>cons.conf.idx</th>\n",
       "      <th>euribor3m</th>\n",
       "      <th>nr.employed</th>\n",
       "      <th>label</th>\n",
       "    </tr>\n",
       "  </thead>\n",
       "  <tbody>\n",
       "    <tr>\n",
       "      <th>0</th>\n",
       "      <td>56</td>\n",
       "      <td>housemaid</td>\n",
       "      <td>married</td>\n",
       "      <td>basic.4y</td>\n",
       "      <td>no</td>\n",
       "      <td>no</td>\n",
       "      <td>no</td>\n",
       "      <td>telephone</td>\n",
       "      <td>may</td>\n",
       "      <td>mon</td>\n",
       "      <td>...</td>\n",
       "      <td>1</td>\n",
       "      <td>999</td>\n",
       "      <td>0</td>\n",
       "      <td>nonexistent</td>\n",
       "      <td>1.1</td>\n",
       "      <td>93.994</td>\n",
       "      <td>-36.4</td>\n",
       "      <td>4.857</td>\n",
       "      <td>5191.0</td>\n",
       "      <td>no</td>\n",
       "    </tr>\n",
       "    <tr>\n",
       "      <th>1</th>\n",
       "      <td>57</td>\n",
       "      <td>services</td>\n",
       "      <td>married</td>\n",
       "      <td>high.school</td>\n",
       "      <td>unknown</td>\n",
       "      <td>no</td>\n",
       "      <td>no</td>\n",
       "      <td>telephone</td>\n",
       "      <td>may</td>\n",
       "      <td>mon</td>\n",
       "      <td>...</td>\n",
       "      <td>1</td>\n",
       "      <td>999</td>\n",
       "      <td>0</td>\n",
       "      <td>nonexistent</td>\n",
       "      <td>1.1</td>\n",
       "      <td>93.994</td>\n",
       "      <td>-36.4</td>\n",
       "      <td>4.857</td>\n",
       "      <td>5191.0</td>\n",
       "      <td>no</td>\n",
       "    </tr>\n",
       "    <tr>\n",
       "      <th>2</th>\n",
       "      <td>37</td>\n",
       "      <td>services</td>\n",
       "      <td>married</td>\n",
       "      <td>high.school</td>\n",
       "      <td>no</td>\n",
       "      <td>yes</td>\n",
       "      <td>no</td>\n",
       "      <td>telephone</td>\n",
       "      <td>may</td>\n",
       "      <td>mon</td>\n",
       "      <td>...</td>\n",
       "      <td>1</td>\n",
       "      <td>999</td>\n",
       "      <td>0</td>\n",
       "      <td>nonexistent</td>\n",
       "      <td>1.1</td>\n",
       "      <td>93.994</td>\n",
       "      <td>-36.4</td>\n",
       "      <td>4.857</td>\n",
       "      <td>5191.0</td>\n",
       "      <td>no</td>\n",
       "    </tr>\n",
       "    <tr>\n",
       "      <th>3</th>\n",
       "      <td>40</td>\n",
       "      <td>admin.</td>\n",
       "      <td>married</td>\n",
       "      <td>basic.6y</td>\n",
       "      <td>no</td>\n",
       "      <td>no</td>\n",
       "      <td>no</td>\n",
       "      <td>telephone</td>\n",
       "      <td>may</td>\n",
       "      <td>mon</td>\n",
       "      <td>...</td>\n",
       "      <td>1</td>\n",
       "      <td>999</td>\n",
       "      <td>0</td>\n",
       "      <td>nonexistent</td>\n",
       "      <td>1.1</td>\n",
       "      <td>93.994</td>\n",
       "      <td>-36.4</td>\n",
       "      <td>4.857</td>\n",
       "      <td>5191.0</td>\n",
       "      <td>no</td>\n",
       "    </tr>\n",
       "    <tr>\n",
       "      <th>4</th>\n",
       "      <td>56</td>\n",
       "      <td>services</td>\n",
       "      <td>married</td>\n",
       "      <td>high.school</td>\n",
       "      <td>no</td>\n",
       "      <td>no</td>\n",
       "      <td>yes</td>\n",
       "      <td>telephone</td>\n",
       "      <td>may</td>\n",
       "      <td>mon</td>\n",
       "      <td>...</td>\n",
       "      <td>1</td>\n",
       "      <td>999</td>\n",
       "      <td>0</td>\n",
       "      <td>nonexistent</td>\n",
       "      <td>1.1</td>\n",
       "      <td>93.994</td>\n",
       "      <td>-36.4</td>\n",
       "      <td>4.857</td>\n",
       "      <td>5191.0</td>\n",
       "      <td>no</td>\n",
       "    </tr>\n",
       "  </tbody>\n",
       "</table>\n",
       "<p>5 rows × 21 columns</p>\n",
       "</div>"
      ],
      "text/plain": [
       "   age        job  marital    education  default housing loan    contact  \\\n",
       "0   56  housemaid  married     basic.4y       no      no   no  telephone   \n",
       "1   57   services  married  high.school  unknown      no   no  telephone   \n",
       "2   37   services  married  high.school       no     yes   no  telephone   \n",
       "3   40     admin.  married     basic.6y       no      no   no  telephone   \n",
       "4   56   services  married  high.school       no      no  yes  telephone   \n",
       "\n",
       "  month day_of_week  ...  campaign  pdays  previous     poutcome emp.var.rate  \\\n",
       "0   may         mon  ...         1    999         0  nonexistent          1.1   \n",
       "1   may         mon  ...         1    999         0  nonexistent          1.1   \n",
       "2   may         mon  ...         1    999         0  nonexistent          1.1   \n",
       "3   may         mon  ...         1    999         0  nonexistent          1.1   \n",
       "4   may         mon  ...         1    999         0  nonexistent          1.1   \n",
       "\n",
       "   cons.price.idx  cons.conf.idx  euribor3m  nr.employed  label  \n",
       "0          93.994          -36.4      4.857       5191.0     no  \n",
       "1          93.994          -36.4      4.857       5191.0     no  \n",
       "2          93.994          -36.4      4.857       5191.0     no  \n",
       "3          93.994          -36.4      4.857       5191.0     no  \n",
       "4          93.994          -36.4      4.857       5191.0     no  \n",
       "\n",
       "[5 rows x 21 columns]"
      ]
     },
     "execution_count": 3696,
     "metadata": {},
     "output_type": "execute_result"
    }
   ],
   "source": [
    "data_train = pd.read_csv('bank.csv')\n",
    "data_train = data_train.iloc[:,1:]\n",
    "data_train.head(5)"
   ]
  },
  {
   "cell_type": "code",
   "execution_count": 3697,
   "metadata": {},
   "outputs": [
    {
     "data": {
      "text/html": [
       "<div>\n",
       "<style scoped>\n",
       "    .dataframe tbody tr th:only-of-type {\n",
       "        vertical-align: middle;\n",
       "    }\n",
       "\n",
       "    .dataframe tbody tr th {\n",
       "        vertical-align: top;\n",
       "    }\n",
       "\n",
       "    .dataframe thead th {\n",
       "        text-align: right;\n",
       "    }\n",
       "</style>\n",
       "<table border=\"1\" class=\"dataframe\">\n",
       "  <thead>\n",
       "    <tr style=\"text-align: right;\">\n",
       "      <th></th>\n",
       "      <th>age</th>\n",
       "      <th>duration</th>\n",
       "      <th>campaign</th>\n",
       "      <th>pdays</th>\n",
       "      <th>previous</th>\n",
       "      <th>emp.var.rate</th>\n",
       "      <th>cons.price.idx</th>\n",
       "      <th>cons.conf.idx</th>\n",
       "      <th>euribor3m</th>\n",
       "      <th>nr.employed</th>\n",
       "    </tr>\n",
       "  </thead>\n",
       "  <tbody>\n",
       "    <tr>\n",
       "      <th>count</th>\n",
       "      <td>41188.00000</td>\n",
       "      <td>41188.000000</td>\n",
       "      <td>41188.000000</td>\n",
       "      <td>41188.000000</td>\n",
       "      <td>41188.000000</td>\n",
       "      <td>41188.000000</td>\n",
       "      <td>41188.000000</td>\n",
       "      <td>41188.000000</td>\n",
       "      <td>41188.000000</td>\n",
       "      <td>41188.000000</td>\n",
       "    </tr>\n",
       "    <tr>\n",
       "      <th>mean</th>\n",
       "      <td>40.02406</td>\n",
       "      <td>258.285010</td>\n",
       "      <td>2.567593</td>\n",
       "      <td>962.475454</td>\n",
       "      <td>0.172963</td>\n",
       "      <td>0.081886</td>\n",
       "      <td>93.575664</td>\n",
       "      <td>-40.502600</td>\n",
       "      <td>3.621291</td>\n",
       "      <td>5167.035911</td>\n",
       "    </tr>\n",
       "    <tr>\n",
       "      <th>std</th>\n",
       "      <td>10.42125</td>\n",
       "      <td>259.279249</td>\n",
       "      <td>2.770014</td>\n",
       "      <td>186.910907</td>\n",
       "      <td>0.494901</td>\n",
       "      <td>1.570960</td>\n",
       "      <td>0.578840</td>\n",
       "      <td>4.628198</td>\n",
       "      <td>1.734447</td>\n",
       "      <td>72.251528</td>\n",
       "    </tr>\n",
       "    <tr>\n",
       "      <th>min</th>\n",
       "      <td>17.00000</td>\n",
       "      <td>0.000000</td>\n",
       "      <td>1.000000</td>\n",
       "      <td>0.000000</td>\n",
       "      <td>0.000000</td>\n",
       "      <td>-3.400000</td>\n",
       "      <td>92.201000</td>\n",
       "      <td>-50.800000</td>\n",
       "      <td>0.634000</td>\n",
       "      <td>4963.600000</td>\n",
       "    </tr>\n",
       "    <tr>\n",
       "      <th>25%</th>\n",
       "      <td>32.00000</td>\n",
       "      <td>102.000000</td>\n",
       "      <td>1.000000</td>\n",
       "      <td>999.000000</td>\n",
       "      <td>0.000000</td>\n",
       "      <td>-1.800000</td>\n",
       "      <td>93.075000</td>\n",
       "      <td>-42.700000</td>\n",
       "      <td>1.344000</td>\n",
       "      <td>5099.100000</td>\n",
       "    </tr>\n",
       "    <tr>\n",
       "      <th>50%</th>\n",
       "      <td>38.00000</td>\n",
       "      <td>180.000000</td>\n",
       "      <td>2.000000</td>\n",
       "      <td>999.000000</td>\n",
       "      <td>0.000000</td>\n",
       "      <td>1.100000</td>\n",
       "      <td>93.749000</td>\n",
       "      <td>-41.800000</td>\n",
       "      <td>4.857000</td>\n",
       "      <td>5191.000000</td>\n",
       "    </tr>\n",
       "    <tr>\n",
       "      <th>75%</th>\n",
       "      <td>47.00000</td>\n",
       "      <td>319.000000</td>\n",
       "      <td>3.000000</td>\n",
       "      <td>999.000000</td>\n",
       "      <td>0.000000</td>\n",
       "      <td>1.400000</td>\n",
       "      <td>93.994000</td>\n",
       "      <td>-36.400000</td>\n",
       "      <td>4.961000</td>\n",
       "      <td>5228.100000</td>\n",
       "    </tr>\n",
       "    <tr>\n",
       "      <th>max</th>\n",
       "      <td>98.00000</td>\n",
       "      <td>4918.000000</td>\n",
       "      <td>56.000000</td>\n",
       "      <td>999.000000</td>\n",
       "      <td>7.000000</td>\n",
       "      <td>1.400000</td>\n",
       "      <td>94.767000</td>\n",
       "      <td>-26.900000</td>\n",
       "      <td>5.045000</td>\n",
       "      <td>5228.100000</td>\n",
       "    </tr>\n",
       "  </tbody>\n",
       "</table>\n",
       "</div>"
      ],
      "text/plain": [
       "               age      duration      campaign         pdays      previous  \\\n",
       "count  41188.00000  41188.000000  41188.000000  41188.000000  41188.000000   \n",
       "mean      40.02406    258.285010      2.567593    962.475454      0.172963   \n",
       "std       10.42125    259.279249      2.770014    186.910907      0.494901   \n",
       "min       17.00000      0.000000      1.000000      0.000000      0.000000   \n",
       "25%       32.00000    102.000000      1.000000    999.000000      0.000000   \n",
       "50%       38.00000    180.000000      2.000000    999.000000      0.000000   \n",
       "75%       47.00000    319.000000      3.000000    999.000000      0.000000   \n",
       "max       98.00000   4918.000000     56.000000    999.000000      7.000000   \n",
       "\n",
       "       emp.var.rate  cons.price.idx  cons.conf.idx     euribor3m   nr.employed  \n",
       "count  41188.000000    41188.000000   41188.000000  41188.000000  41188.000000  \n",
       "mean       0.081886       93.575664     -40.502600      3.621291   5167.035911  \n",
       "std        1.570960        0.578840       4.628198      1.734447     72.251528  \n",
       "min       -3.400000       92.201000     -50.800000      0.634000   4963.600000  \n",
       "25%       -1.800000       93.075000     -42.700000      1.344000   5099.100000  \n",
       "50%        1.100000       93.749000     -41.800000      4.857000   5191.000000  \n",
       "75%        1.400000       93.994000     -36.400000      4.961000   5228.100000  \n",
       "max        1.400000       94.767000     -26.900000      5.045000   5228.100000  "
      ]
     },
     "execution_count": 3697,
     "metadata": {},
     "output_type": "execute_result"
    }
   ],
   "source": [
    "data_train.describe()"
   ]
  },
  {
   "cell_type": "code",
   "execution_count": 3698,
   "metadata": {},
   "outputs": [
    {
     "data": {
      "text/html": [
       "<div>\n",
       "<style scoped>\n",
       "    .dataframe tbody tr th:only-of-type {\n",
       "        vertical-align: middle;\n",
       "    }\n",
       "\n",
       "    .dataframe tbody tr th {\n",
       "        vertical-align: top;\n",
       "    }\n",
       "\n",
       "    .dataframe thead th {\n",
       "        text-align: right;\n",
       "    }\n",
       "</style>\n",
       "<table border=\"1\" class=\"dataframe\">\n",
       "  <thead>\n",
       "    <tr style=\"text-align: right;\">\n",
       "      <th></th>\n",
       "      <th>job</th>\n",
       "      <th>marital</th>\n",
       "      <th>education</th>\n",
       "      <th>default</th>\n",
       "      <th>housing</th>\n",
       "      <th>loan</th>\n",
       "      <th>contact</th>\n",
       "      <th>month</th>\n",
       "      <th>day_of_week</th>\n",
       "      <th>poutcome</th>\n",
       "      <th>label</th>\n",
       "    </tr>\n",
       "  </thead>\n",
       "  <tbody>\n",
       "    <tr>\n",
       "      <th>count</th>\n",
       "      <td>41188</td>\n",
       "      <td>41188</td>\n",
       "      <td>41188</td>\n",
       "      <td>41188</td>\n",
       "      <td>41188</td>\n",
       "      <td>41188</td>\n",
       "      <td>41188</td>\n",
       "      <td>41188</td>\n",
       "      <td>41188</td>\n",
       "      <td>41188</td>\n",
       "      <td>41188</td>\n",
       "    </tr>\n",
       "    <tr>\n",
       "      <th>unique</th>\n",
       "      <td>12</td>\n",
       "      <td>4</td>\n",
       "      <td>8</td>\n",
       "      <td>3</td>\n",
       "      <td>3</td>\n",
       "      <td>3</td>\n",
       "      <td>2</td>\n",
       "      <td>10</td>\n",
       "      <td>5</td>\n",
       "      <td>3</td>\n",
       "      <td>2</td>\n",
       "    </tr>\n",
       "    <tr>\n",
       "      <th>top</th>\n",
       "      <td>admin.</td>\n",
       "      <td>married</td>\n",
       "      <td>university.degree</td>\n",
       "      <td>no</td>\n",
       "      <td>yes</td>\n",
       "      <td>no</td>\n",
       "      <td>cellular</td>\n",
       "      <td>may</td>\n",
       "      <td>thu</td>\n",
       "      <td>nonexistent</td>\n",
       "      <td>no</td>\n",
       "    </tr>\n",
       "    <tr>\n",
       "      <th>freq</th>\n",
       "      <td>10422</td>\n",
       "      <td>24928</td>\n",
       "      <td>12168</td>\n",
       "      <td>32588</td>\n",
       "      <td>21576</td>\n",
       "      <td>33950</td>\n",
       "      <td>26144</td>\n",
       "      <td>13769</td>\n",
       "      <td>8623</td>\n",
       "      <td>35563</td>\n",
       "      <td>36548</td>\n",
       "    </tr>\n",
       "  </tbody>\n",
       "</table>\n",
       "</div>"
      ],
      "text/plain": [
       "           job  marital          education default housing   loan   contact  \\\n",
       "count    41188    41188              41188   41188   41188  41188     41188   \n",
       "unique      12        4                  8       3       3      3         2   \n",
       "top     admin.  married  university.degree      no     yes     no  cellular   \n",
       "freq     10422    24928              12168   32588   21576  33950     26144   \n",
       "\n",
       "        month day_of_week     poutcome  label  \n",
       "count   41188       41188        41188  41188  \n",
       "unique     10           5            3      2  \n",
       "top       may         thu  nonexistent     no  \n",
       "freq    13769        8623        35563  36548  "
      ]
     },
     "execution_count": 3698,
     "metadata": {},
     "output_type": "execute_result"
    }
   ],
   "source": [
    "data_train.describe(include='O')"
   ]
  },
  {
   "cell_type": "markdown",
   "metadata": {},
   "source": [
    "# 缺失值处理"
   ]
  },
  {
   "cell_type": "markdown",
   "metadata": {},
   "source": [
    "## 列的处理"
   ]
  },
  {
   "cell_type": "code",
   "execution_count": 3699,
   "metadata": {
    "tags": []
   },
   "outputs": [
    {
     "name": "stdout",
     "output_type": "stream",
     "text": [
      "age--unknown值: 0\n",
      "job--unknown值: 330\n",
      "marital--unknown值: 80\n",
      "education--unknown值: 1731\n",
      "default--unknown值: 8597\n",
      "housing--unknown值: 990\n",
      "loan--unknown值: 990\n",
      "contact--unknown值: 0\n",
      "month--unknown值: 0\n",
      "day_of_week--unknown值: 0\n",
      "duration--unknown值: 0\n",
      "campaign--unknown值: 0\n",
      "pdays--unknown值: 0\n",
      "previous--unknown值: 0\n",
      "poutcome--unknown值: 0\n",
      "emp.var.rate--unknown值: 0\n",
      "cons.price.idx--unknown值: 0\n",
      "cons.conf.idx--unknown值: 0\n",
      "euribor3m--unknown值: 0\n",
      "nr.employed--unknown值: 0\n",
      "label--unknown值: 0\n",
      "删去了default\n"
     ]
    }
   ],
   "source": [
    "# unknown值\n",
    "for col in data_train.columns:\n",
    "    print(col + '--unknown值: ' + str(data_train[data_train[col] == 'unknown'].shape[0]))\n",
    "    \n",
    "# 删除unknown大于30%的列\n",
    "for col in data_train.columns:\n",
    "    num = data_train[data_train[col] == 'unknown'].shape[0]\n",
    "    if num/data_train.shape[0] > 0.2:\n",
    "        print('删去了' + col)\n",
    "        data_train.drop(columns=col,inplace=True)"
   ]
  },
  {
   "cell_type": "markdown",
   "metadata": {},
   "source": [
    "## 行的处理"
   ]
  },
  {
   "cell_type": "code",
   "execution_count": 3700,
   "metadata": {},
   "outputs": [],
   "source": [
    "# 替换unknown为每列的众数\n",
    "for col in data_train.columns.tolist():\n",
    "    if (type(data_train[col][0])) is str:\n",
    "        if ('unknown' in data_train[col].tolist()):\n",
    "            col_mode = data_train[col].mode()[0]\n",
    "            data_train[col].replace('unknown', col_mode, inplace=True)"
   ]
  },
  {
   "cell_type": "code",
   "execution_count": 3701,
   "metadata": {},
   "outputs": [],
   "source": [
    "# 删除unknown行\n",
    "# for index, row in data_train.iterrows():\n",
    "#         if ('unknown' in row.values):\n",
    "#             data_train.drop([index], inplace=True)"
   ]
  },
  {
   "cell_type": "markdown",
   "metadata": {
    "tags": []
   },
   "source": [
    "# 数据可视化分析与数据处理"
   ]
  },
  {
   "cell_type": "markdown",
   "metadata": {
    "tags": []
   },
   "source": [
    "##  Object类型数据与label相关性"
   ]
  },
  {
   "cell_type": "code",
   "execution_count": 3702,
   "metadata": {
    "jupyter": {
     "source_hidden": true
    },
    "tags": []
   },
   "outputs": [],
   "source": [
    "def pie_plot(data,col,title,figsize = (20,20),height = 4,width = 4):\n",
    "    plt.figure(figsize = figsize)\n",
    "    plt.suptitle(title)\n",
    "    row = data[col].unique().tolist()\n",
    "    length = len(row)\n",
    "    for i in range(length):\n",
    "        plt.subplot(width,height,i+1).set_title(row[i])\n",
    "        plt.pie( data[data[col] == row[i]].label.value_counts(),\n",
    "                 labels = ['不购买','购买'],\n",
    "                explode = [0,0.2],\n",
    "                colors = ['#66CCCC','#FF6666'],\n",
    "                autopct = '%.2f%%'  \n",
    "               )\n",
    "plt.show()"
   ]
  },
  {
   "cell_type": "code",
   "execution_count": 3703,
   "metadata": {
    "tags": []
   },
   "outputs": [],
   "source": [
    "import warnings\n",
    "warnings.filterwarnings('ignore')  # 不发出警告"
   ]
  },
  {
   "cell_type": "markdown",
   "metadata": {
    "tags": []
   },
   "source": [
    "### 房贷状况"
   ]
  },
  {
   "cell_type": "code",
   "execution_count": 3704,
   "metadata": {
    "tags": []
   },
   "outputs": [
    {
     "data": {
      "text/plain": [
       "<AxesSubplot:xlabel='housing'>"
      ]
     },
     "execution_count": 3704,
     "metadata": {},
     "output_type": "execute_result"
    },
    {
     "data": {
      "image/png": "[encoded data removed]",
      "text/plain": [
       "<Figure size 432x288 with 1 Axes>"
      ]
     },
     "metadata": {
      "needs_background": "light"
     },
     "output_type": "display_data"
    }
   ],
   "source": [
    "sns.barplot(data_train[\"housing\"].value_counts()[:20],\n",
    "            data_train[\"housing\"].value_counts().keys()[:20])"
   ]
  },
  {
   "cell_type": "code",
   "execution_count": 3705,
   "metadata": {
    "tags": []
   },
   "outputs": [
    {
     "data": {
      "image/png": "[encoded data removed]",
      "text/plain": [
       "<Figure size 1440x1440 with 2 Axes>"
      ]
     },
     "metadata": {},
     "output_type": "display_data"
    }
   ],
   "source": [
    "pie_plot(data_train,'housing','房贷')"
   ]
  },
  {
   "cell_type": "markdown",
   "metadata": {
    "tags": []
   },
   "source": [
    "### 个人贷款状况"
   ]
  },
  {
   "cell_type": "code",
   "execution_count": 3706,
   "metadata": {},
   "outputs": [
    {
     "data": {
      "text/plain": [
       "<AxesSubplot:xlabel='loan'>"
      ]
     },
     "execution_count": 3706,
     "metadata": {},
     "output_type": "execute_result"
    },
    {
     "data": {
      "image/png": "[encoded data removed]",
      "text/plain": [
       "<Figure size 432x288 with 1 Axes>"
      ]
     },
     "metadata": {
      "needs_background": "light"
     },
     "output_type": "display_data"
    }
   ],
   "source": [
    "sns.barplot(data_train[\"loan\"].value_counts()[:20],\n",
    "            data_train[\"loan\"].value_counts().keys()[:20])"
   ]
  },
  {
   "cell_type": "code",
   "execution_count": 3707,
   "metadata": {
    "tags": []
   },
   "outputs": [
    {
     "data": {
      "image/png": "[encoded data removed]",
      "text/plain": [
       "<Figure size 1440x1440 with 2 Axes>"
      ]
     },
     "metadata": {},
     "output_type": "display_data"
    }
   ],
   "source": [
    "pie_plot(data_train,'loan','个人贷款')"
   ]
  },
  {
   "cell_type": "markdown",
   "metadata": {
    "tags": []
   },
   "source": [
    "### 上次联系时为周几"
   ]
  },
  {
   "cell_type": "code",
   "execution_count": 3708,
   "metadata": {},
   "outputs": [
    {
     "data": {
      "text/plain": [
       "<AxesSubplot:xlabel='day_of_week'>"
      ]
     },
     "execution_count": 3708,
     "metadata": {},
     "output_type": "execute_result"
    },
    {
     "data": {
      "image/png": "[encoded data removed]",
      "text/plain": [
       "<Figure size 432x288 with 1 Axes>"
      ]
     },
     "metadata": {
      "needs_background": "light"
     },
     "output_type": "display_data"
    }
   ],
   "source": [
    "sns.barplot(data_train[\"day_of_week\"].value_counts()[:20],\n",
    "            data_train[\"day_of_week\"].value_counts().keys()[:20])"
   ]
  },
  {
   "cell_type": "code",
   "execution_count": 3709,
   "metadata": {
    "tags": []
   },
   "outputs": [
    {
     "data": {
      "image/png": "[encoded data removed]",
      "text/plain": [
       "<Figure size 1440x1440 with 5 Axes>"
      ]
     },
     "metadata": {},
     "output_type": "display_data"
    }
   ],
   "source": [
    "pie_plot(data_train,'day_of_week','个人贷款')"
   ]
  },
  {
   "cell_type": "markdown",
   "metadata": {},
   "source": [
    "+ housing loan day_of_week对于结果没有明显影响"
   ]
  },
  {
   "cell_type": "markdown",
   "metadata": {},
   "source": [
    "## 数值型数据与label相关性-热力图分析"
   ]
  },
  {
   "cell_type": "code",
   "execution_count": 3710,
   "metadata": {},
   "outputs": [],
   "source": [
    "data_train.replace(['yes', 'no'], [1, 0], True)"
   ]
  },
  {
   "cell_type": "code",
   "execution_count": 3711,
   "metadata": {},
   "outputs": [
    {
     "data": {
      "image/png": "[encoded data removed]",
      "text/plain": [
       "<Figure size 1296x576 with 2 Axes>"
      ]
     },
     "metadata": {
      "needs_background": "light"
     },
     "output_type": "display_data"
    }
   ],
   "source": [
    "font = {'family':'SimHei','size':'15'}\n",
    "plt.rc('font',**font)\n",
    "plt.rc('axes',unicode_minus='False')\n",
    "plt.figure(figsize = (18,8))\n",
    "corr_matrix = data_train.corr()\n",
    "sns.heatmap(corr_matrix, cmap='RdBu', annot=True, vmin=-1, vmax=1)\n",
    "plt.title('各变量相关系数')\n",
    "plt.show()"
   ]
  },
  {
   "cell_type": "markdown",
   "metadata": {},
   "source": [
    "+ emp.var.rate（季度就业变化率） 与euribor3m（三月期利率）相关性为 0.97\n",
    "+ emp.var.tate（季度就业变化率） 与nr.employed（员工人数）相关性为 0.91\n",
    "+ nr.employed（员工人数）与enribor3m（三月期利率）相关性为0.95\n",
    "+ 同时三者对label具有较大的影响\n",
    "+ 可以考虑删除其中一个或者两个"
   ]
  },
  {
   "cell_type": "markdown",
   "metadata": {},
   "source": [
    "+ duration(上次联系的通话时长) pdays(距离上次联系顾客的天数) previous(先前联系顾客的次数)对label影响较大"
   ]
  },
  {
   "cell_type": "markdown",
   "metadata": {},
   "source": [
    "+ 结合前面分析,loan应该删除"
   ]
  },
  {
   "cell_type": "markdown",
   "metadata": {},
   "source": [
    "+ 较低的数值还有campaign(本次营销活动中与客户联系的次数) cons.conf.idx(月度消费者信心指数)"
   ]
  },
  {
   "cell_type": "markdown",
   "metadata": {},
   "source": [
    "## 连续型数据-异常值分析"
   ]
  },
  {
   "cell_type": "code",
   "execution_count": 3712,
   "metadata": {
    "jupyter": {
     "source_hidden": true
    },
    "tags": []
   },
   "outputs": [],
   "source": [
    "def dist_plot(data, col, title):\n",
    "    fig, ax = plt.subplots(2, 1, sharex=True, figsize=(8,5),gridspec_kw={\"height_ratios\": (.2, .8)})\n",
    "    ax[0].set_title(title,fontsize=18)\n",
    "    sns.boxplot(x=col, data=data, ax=ax[0],color = \"#1D8EF5\")\n",
    "    ax[0].set(yticks=[])\n",
    "    sns.histplot(x=col, data=data, ax=ax[1],color = \"#33AAFF\", edgecolor=\"#1D1EA2\")\n",
    "    ax[1].set_xlabel(col, fontsize=16)\n",
    "    plt.axvline(data[col].mean(), color='darkgreen', linestyle='--',linewidth=2.2, label='mean=' + str(np.round(data[col].mean(),1)) )\n",
    "    plt.axvline(data[col].median(), color='red', linestyle='--',linewidth=2.2, label='median='+ str(np.round(data[col].median(),1)) )\n",
    "    plt.axvline(data[col].mode()[0], color='purple', linestyle='--',linewidth=2.2, label='mode='+ str(np.round(data[col].mode()[0],1)) )\n",
    "    plt.legend(bbox_to_anchor=(1, 1.03), ncol=1, fontsize=17, fancybox=True, shadow=True, frameon=True)\n",
    "    plt.tight_layout()\n",
    "    plt.show()"
   ]
  },
  {
   "cell_type": "code",
   "execution_count": 3713,
   "metadata": {
    "tags": []
   },
   "outputs": [
    {
     "data": {
      "image/png": "[encoded data removed]",
      "text/plain": [
       "<Figure size 576x360 with 2 Axes>"
      ]
     },
     "metadata": {
      "needs_background": "light"
     },
     "output_type": "display_data"
    }
   ],
   "source": [
    "dist_plot(data_train,'campaign','本次营销活动与顾客的联系次数')"
   ]
  },
  {
   "cell_type": "code",
   "execution_count": 3714,
   "metadata": {},
   "outputs": [
    {
     "data": {
      "image/png": "[encoded data removed]",
      "text/plain": [
       "<Figure size 576x360 with 2 Axes>"
      ]
     },
     "metadata": {
      "needs_background": "light"
     },
     "output_type": "display_data"
    }
   ],
   "source": [
    "dist_plot(data_train,'cons.conf.idx','本次营销活动与顾客的联系次数')"
   ]
  },
  {
   "cell_type": "code",
   "execution_count": 3715,
   "metadata": {
    "tags": []
   },
   "outputs": [
    {
     "data": {
      "image/png": "[encoded data removed]",
      "text/plain": [
       "<Figure size 576x360 with 2 Axes>"
      ]
     },
     "metadata": {
      "needs_background": "light"
     },
     "output_type": "display_data"
    }
   ],
   "source": [
    "dist_plot(data_train,'pdays','距离上次联系顾客的天数')"
   ]
  },
  {
   "cell_type": "code",
   "execution_count": 3716,
   "metadata": {
    "tags": []
   },
   "outputs": [
    {
     "data": {
      "text/plain": [
       "array([999,   6,   4,   3,   5,   1,   0,  10,   7,   8,   9,  11,   2,\n",
       "        12,  13,  14,  15,  16,  21,  17,  18,  22,  25,  26,  19,  27,\n",
       "        20], dtype=int64)"
      ]
     },
     "execution_count": 3716,
     "metadata": {},
     "output_type": "execute_result"
    }
   ],
   "source": [
    "data_train['pdays'].unique()"
   ]
  },
  {
   "cell_type": "markdown",
   "metadata": {},
   "source": [
    "+ 可以划分为0、1"
   ]
  },
  {
   "cell_type": "code",
   "execution_count": 3717,
   "metadata": {
    "jupyter": {
     "source_hidden": true
    },
    "tags": []
   },
   "outputs": [],
   "source": [
    "# serial_data = ['age', 'duration', 'campaign', 'emp.var.rate', 'cons.price.idx', 'cons.conf.idx', 'euribor3m', 'nr.employed']\n",
    "# f = pd.melt(data_train, value_vars=serial_data)\n",
    "# g = sns.FacetGrid(f, col=\"variable\",  col_wrap=2, sharex=False, sharey=False)\n",
    "# g = g.map(sns.distplot, \"value\")"
   ]
  },
  {
   "cell_type": "markdown",
   "metadata": {},
   "source": [
    "## 数据再处理"
   ]
  },
  {
   "cell_type": "markdown",
   "metadata": {},
   "source": [
    "### 删除列-连续"
   ]
  },
  {
   "cell_type": "code",
   "execution_count": 3718,
   "metadata": {},
   "outputs": [],
   "source": [
    "# 经过饼状图和热力图分析，与label关系性不高\n",
    "# data_train.drop(columns = ['loan'],inplace=True)\n",
    "# emp.var.rate和euribor3m和nr.employed三者高度线性相关\n",
    "data_train.drop(columns = ['nr.employed'])\n",
    "# 经过饼状图分析与热力图分析，与label关系性不高\n",
    "data_train.drop(columns = ['housing'],inplace=True)\n",
    "# campaign经过热力图分析，与label关系性不高\n",
    "# data_train.drop(columns = ['campaign'])"
   ]
  },
  {
   "cell_type": "markdown",
   "metadata": {},
   "source": [
    "### 删除列——object"
   ]
  },
  {
   "cell_type": "code",
   "execution_count": 3719,
   "metadata": {},
   "outputs": [],
   "source": [
    "# 经过饼状图分析，与label关系性不高\n",
    "# data_train.drop(columns = ['day_of_week'],inplace=True)"
   ]
  },
  {
   "cell_type": "markdown",
   "metadata": {},
   "source": [
    "### 二元处理"
   ]
  },
  {
   "cell_type": "code",
   "execution_count": 3720,
   "metadata": {},
   "outputs": [],
   "source": [
    "# data_train['pdays'] = data_train.pdays.apply(lambda x : 1 if x == 999 else 0)"
   ]
  },
  {
   "cell_type": "markdown",
   "metadata": {},
   "source": [
    "# 离散变量编码"
   ]
  },
  {
   "cell_type": "code",
   "execution_count": 3721,
   "metadata": {},
   "outputs": [
    {
     "data": {
      "text/html": [
       "<div>\n",
       "<style scoped>\n",
       "    .dataframe tbody tr th:only-of-type {\n",
       "        vertical-align: middle;\n",
       "    }\n",
       "\n",
       "    .dataframe tbody tr th {\n",
       "        vertical-align: top;\n",
       "    }\n",
       "\n",
       "    .dataframe thead th {\n",
       "        text-align: right;\n",
       "    }\n",
       "</style>\n",
       "<table border=\"1\" class=\"dataframe\">\n",
       "  <thead>\n",
       "    <tr style=\"text-align: right;\">\n",
       "      <th></th>\n",
       "      <th>age</th>\n",
       "      <th>job</th>\n",
       "      <th>marital</th>\n",
       "      <th>education</th>\n",
       "      <th>loan</th>\n",
       "      <th>contact</th>\n",
       "      <th>month</th>\n",
       "      <th>day_of_week</th>\n",
       "      <th>duration</th>\n",
       "      <th>campaign</th>\n",
       "      <th>pdays</th>\n",
       "      <th>previous</th>\n",
       "      <th>poutcome</th>\n",
       "      <th>emp.var.rate</th>\n",
       "      <th>cons.price.idx</th>\n",
       "      <th>cons.conf.idx</th>\n",
       "      <th>euribor3m</th>\n",
       "      <th>nr.employed</th>\n",
       "      <th>label</th>\n",
       "    </tr>\n",
       "  </thead>\n",
       "  <tbody>\n",
       "    <tr>\n",
       "      <th>0</th>\n",
       "      <td>56</td>\n",
       "      <td>housemaid</td>\n",
       "      <td>married</td>\n",
       "      <td>basic.4y</td>\n",
       "      <td>0</td>\n",
       "      <td>telephone</td>\n",
       "      <td>may</td>\n",
       "      <td>mon</td>\n",
       "      <td>261</td>\n",
       "      <td>1</td>\n",
       "      <td>999</td>\n",
       "      <td>0</td>\n",
       "      <td>nonexistent</td>\n",
       "      <td>1.1</td>\n",
       "      <td>93.994</td>\n",
       "      <td>-36.4</td>\n",
       "      <td>4.857</td>\n",
       "      <td>5191.0</td>\n",
       "      <td>0</td>\n",
       "    </tr>\n",
       "    <tr>\n",
       "      <th>1</th>\n",
       "      <td>57</td>\n",
       "      <td>services</td>\n",
       "      <td>married</td>\n",
       "      <td>high.school</td>\n",
       "      <td>0</td>\n",
       "      <td>telephone</td>\n",
       "      <td>may</td>\n",
       "      <td>mon</td>\n",
       "      <td>149</td>\n",
       "      <td>1</td>\n",
       "      <td>999</td>\n",
       "      <td>0</td>\n",
       "      <td>nonexistent</td>\n",
       "      <td>1.1</td>\n",
       "      <td>93.994</td>\n",
       "      <td>-36.4</td>\n",
       "      <td>4.857</td>\n",
       "      <td>5191.0</td>\n",
       "      <td>0</td>\n",
       "    </tr>\n",
       "    <tr>\n",
       "      <th>2</th>\n",
       "      <td>37</td>\n",
       "      <td>services</td>\n",
       "      <td>married</td>\n",
       "      <td>high.school</td>\n",
       "      <td>0</td>\n",
       "      <td>telephone</td>\n",
       "      <td>may</td>\n",
       "      <td>mon</td>\n",
       "      <td>226</td>\n",
       "      <td>1</td>\n",
       "      <td>999</td>\n",
       "      <td>0</td>\n",
       "      <td>nonexistent</td>\n",
       "      <td>1.1</td>\n",
       "      <td>93.994</td>\n",
       "      <td>-36.4</td>\n",
       "      <td>4.857</td>\n",
       "      <td>5191.0</td>\n",
       "      <td>0</td>\n",
       "    </tr>\n",
       "  </tbody>\n",
       "</table>\n",
       "</div>"
      ],
      "text/plain": [
       "   age        job  marital    education  loan    contact month day_of_week  \\\n",
       "0   56  housemaid  married     basic.4y     0  telephone   may         mon   \n",
       "1   57   services  married  high.school     0  telephone   may         mon   \n",
       "2   37   services  married  high.school     0  telephone   may         mon   \n",
       "\n",
       "   duration  campaign  pdays  previous     poutcome  emp.var.rate  \\\n",
       "0       261         1    999         0  nonexistent           1.1   \n",
       "1       149         1    999         0  nonexistent           1.1   \n",
       "2       226         1    999         0  nonexistent           1.1   \n",
       "\n",
       "   cons.price.idx  cons.conf.idx  euribor3m  nr.employed  label  \n",
       "0          93.994          -36.4      4.857       5191.0      0  \n",
       "1          93.994          -36.4      4.857       5191.0      0  \n",
       "2          93.994          -36.4      4.857       5191.0      0  "
      ]
     },
     "execution_count": 3721,
     "metadata": {},
     "output_type": "execute_result"
    }
   ],
   "source": [
    "data_train.head(3)"
   ]
  },
  {
   "cell_type": "markdown",
   "metadata": {},
   "source": [
    "## 离散变量的重编码"
   ]
  },
  {
   "cell_type": "code",
   "execution_count": 3722,
   "metadata": {},
   "outputs": [],
   "source": [
    "from sklearn.preprocessing import OneHotEncoder\n",
    "from sklearn.preprocessing import LabelEncoder\n",
    "from category_encoders import LeaveOneOutEncoder"
   ]
  },
  {
   "cell_type": "markdown",
   "metadata": {},
   "source": [
    "## 二分变量编码"
   ]
  },
  {
   "cell_type": "code",
   "execution_count": 3723,
   "metadata": {
    "tags": []
   },
   "outputs": [],
   "source": [
    "# contact\n",
    "data_train.replace(['cellular', 'telephone'], [1, 0], True)"
   ]
  },
  {
   "cell_type": "markdown",
   "metadata": {},
   "source": [
    "## 序数编码"
   ]
  },
  {
   "cell_type": "code",
   "execution_count": 3724,
   "metadata": {},
   "outputs": [],
   "source": [
    "# education\n",
    "edu_map = {\"illiterate\": 0, \"basic.4y\": 1, \"basic.6y\": 2, \"basic.9y\": 3, \"high.school\": 4, \"professional.course\": 5, \"university.degree\": 6}\n",
    "data_train['education'] = data_train.education.map(edu_map)"
   ]
  },
  {
   "cell_type": "code",
   "execution_count": 3725,
   "metadata": {},
   "outputs": [],
   "source": [
    "# month\n",
    "# mon_map = {'jan': 1, 'feb': 2, 'mar': 3, 'apr':4, 'may': 5, 'jun': 6, 'jul': 7, 'aug': 8, 'sep': 9, 'oct':10, 'nov': 11, 'dec': 12}\n",
    "mon_map = {'mar': 0, 'apr':1, 'may': 2, 'jun': 3, 'jul': 4, 'aug': 5, 'sep': 6, 'oct':7, 'nov': 8, 'dec': 9}\n",
    "data_train['month'] = data_train.month.map(mon_map)"
   ]
  },
  {
   "cell_type": "code",
   "execution_count": 3726,
   "metadata": {},
   "outputs": [],
   "source": [
    "# day_of_week\n",
    "week_map = {'mon': 0, 'tue': 1, 'wed': 2, 'thu': 3, 'fri': 4}\n",
    "data_train['day_of_week'] = data_train.day_of_week.map(week_map)"
   ]
  },
  {
   "cell_type": "code",
   "execution_count": 3727,
   "metadata": {},
   "outputs": [],
   "source": [
    "# job\n",
    "joblist = [\"admin.\", \"blue-collar\", \"entrepreneur\", \"housemaid\", \"management\", \"retired\", \"self-employed\", \"services\", \"student\", \"technician\", \"unemployed\"]\n",
    "jobvalue = [i for i in range(0, len(joblist))]\n",
    "data_train['job'].replace(joblist, jobvalue, True)"
   ]
  },
  {
   "cell_type": "code",
   "execution_count": 3728,
   "metadata": {
    "jupyter": {
     "source_hidden": true
    },
    "tags": []
   },
   "outputs": [],
   "source": [
    "# marital\n",
    "# maritallist = [\"divorced\", \"married\", \"single\"]\n",
    "# maritalvalue = [i for i in range(0, len(maritallist))]\n",
    "# data_train['marital'].replace(maritallist, maritalvalue, True)"
   ]
  },
  {
   "cell_type": "code",
   "execution_count": 3729,
   "metadata": {
    "jupyter": {
     "source_hidden": true
    },
    "tags": []
   },
   "outputs": [],
   "source": [
    "# poutcome\n",
    "# poutlist = ['nonexistent','failure','success']\n",
    "# poutvalue = [i for i in range(0, len(poutlist))]\n",
    "# data_train['poutcome'].replace(poutlist, poutvalue, True)"
   ]
  },
  {
   "cell_type": "markdown",
   "metadata": {},
   "source": [
    "## 独热码编码"
   ]
  },
  {
   "cell_type": "code",
   "execution_count": 3730,
   "metadata": {
    "tags": []
   },
   "outputs": [],
   "source": [
    "# marital\n",
    "ohc = OneHotEncoder()\n",
    "ohe = ohc.fit_transform(data_train.marital.values.reshape(-1,1)).toarray()\n",
    "maritalOneHot = pd.DataFrame(ohe,columns=[\"marital_\" + str(ohc.categories_[0][i]) for i in range(len(ohc.categories_[0]))])\n",
    "data_train.drop(columns='marital', inplace=True)\n",
    "data_train = pd.concat([data_train,maritalOneHot],axis=1)"
   ]
  },
  {
   "cell_type": "code",
   "execution_count": 3731,
   "metadata": {
    "tags": []
   },
   "outputs": [],
   "source": [
    "# poutcome\n",
    "ohc = OneHotEncoder()\n",
    "ohe = ohc.fit_transform(data_train.poutcome.values.reshape(-1,1)).toarray()\n",
    "poutOneHot= pd.DataFrame(ohe,columns=[\"poutcome_\" + str(ohc.categories_[0][i]) for i in range(len(ohc.categories_[0]))])\n",
    "data_train.drop(columns='poutcome', inplace=True)\n",
    "data_train = pd.concat([data_train,poutOneHot],axis=1)"
   ]
  },
  {
   "cell_type": "markdown",
   "metadata": {
    "tags": []
   },
   "source": [
    "# 数据标准化"
   ]
  },
  {
   "cell_type": "code",
   "execution_count": 3732,
   "metadata": {},
   "outputs": [],
   "source": [
    "# cols = data_train.columns"
   ]
  },
  {
   "cell_type": "code",
   "execution_count": 3733,
   "metadata": {},
   "outputs": [],
   "source": [
    "# from sklearn.preprocessing import StandardScaler\n",
    "# ss = StandardScaler()\n",
    "# data_train = ss.fit_transform(data_train)\n",
    "# test_x = ss.transform(test_x)"
   ]
  },
  {
   "cell_type": "code",
   "execution_count": 3734,
   "metadata": {},
   "outputs": [],
   "source": [
    "# data_train = pd.DataFrame(data_train)\n",
    "# data_train.columns = cols"
   ]
  },
  {
   "cell_type": "markdown",
   "metadata": {},
   "source": [
    "## 数据拆分：训练集（0.75）+测试集（0.25）\n",
    "注意：\n",
    "\n",
    "（1）必须设置固定的随机种子：train_test_split( train_size = 0.70, random_state = 1234)\n",
    "一定设置随机种子，保证每次运行的数据是同一次抽样数据，random_state = 1234（1234可以是任意数值）\n",
    "\n",
    "（2）训练集（0.7）+测试集（0.3）可以是其他比例。"
   ]
  },
  {
   "cell_type": "code",
   "execution_count": 3735,
   "metadata": {},
   "outputs": [],
   "source": [
    "y = data_train['label']\n",
    "data_train.drop(columns='label',inplace=True)"
   ]
  },
  {
   "cell_type": "code",
   "execution_count": 3736,
   "metadata": {},
   "outputs": [
    {
     "name": "stdout",
     "output_type": "stream",
     "text": [
      "训练数据集共有32950条观测\n",
      "测试数据集共有8238条观测\n"
     ]
    }
   ],
   "source": [
    "from sklearn.model_selection import train_test_split\n",
    "X_train, X_test, y_train, y_test = train_test_split(data_train.loc[:,:], \n",
    "                                                    y, train_size = 0.8, \n",
    "                                                    random_state = 133)\n",
    "print('训练数据集共有%d条观测' %X_train.shape[0])\n",
    "print('测试数据集共有%d条观测' %X_test.shape[0])"
   ]
  },
  {
   "cell_type": "markdown",
   "metadata": {},
   "source": [
    "# 数据建模"
   ]
  },
  {
   "cell_type": "code",
   "execution_count": 3737,
   "metadata": {},
   "outputs": [],
   "source": [
    "from sklearn.neighbors import KNeighborsClassifier\n",
    "from numpy import loadtxt\n",
    "from xgboost import XGBClassifier\n",
    "from sklearn import metrics\n",
    "from catboost import CatBoostClassifier"
   ]
  },
  {
   "cell_type": "markdown",
   "metadata": {
    "tags": []
   },
   "source": [
    "## KNN模型"
   ]
  },
  {
   "cell_type": "code",
   "execution_count": 3738,
   "metadata": {},
   "outputs": [],
   "source": [
    "# knn = KNeighborsClassifier(n_neighbors=3,p=2)\n",
    "# knn.fit(X_train, y_train.astype('int32'))\n",
    "# print(knn)"
   ]
  },
  {
   "cell_type": "markdown",
   "metadata": {
    "tags": []
   },
   "source": [
    "### 训练集"
   ]
  },
  {
   "cell_type": "code",
   "execution_count": 3739,
   "metadata": {},
   "outputs": [],
   "source": [
    "# print('KNN模型在训练集上的准确率：%f' %knn.score(X_train,y_train.astype('int32')))"
   ]
  },
  {
   "cell_type": "code",
   "execution_count": 3740,
   "metadata": {},
   "outputs": [],
   "source": [
    "\n",
    "# knn_pred_X_train = knn.predict(X_train)\n",
    "# print(pd.crosstab(knn_pred_X_train, y_train, margins = True))\n",
    "\n",
    "# f1_knn_train = metrics.f1_score(knn_pred_X_train, y_train)\n",
    "# print('KNN模型在训练集上的f1_score：%f' %f1_knn_train)"
   ]
  },
  {
   "cell_type": "markdown",
   "metadata": {
    "tags": []
   },
   "source": [
    "### 测试集"
   ]
  },
  {
   "cell_type": "code",
   "execution_count": 3741,
   "metadata": {},
   "outputs": [],
   "source": [
    "# print('KNN模型在测试集上的准确率：%f' %knn.score(X_test,y_test))"
   ]
  },
  {
   "cell_type": "code",
   "execution_count": 3742,
   "metadata": {},
   "outputs": [],
   "source": [
    "# knn_pred_X_test = knn.predict(X_test)\n",
    "# print(pd.crosstab(knn_pred_X_test, y_test, margins = True))\n",
    "\n",
    "# f1_knn_test = metrics.f1_score(knn_pred_X_test, y_test)\n",
    "# print('KNN模型在测试集上的f1_score：%f' %f1_knn_test)"
   ]
  },
  {
   "cell_type": "markdown",
   "metadata": {},
   "source": [
    "## XGBoost模型"
   ]
  },
  {
   "cell_type": "code",
   "execution_count": 4031,
   "metadata": {},
   "outputs": [
    {
     "name": "stdout",
     "output_type": "stream",
     "text": [
      "[17:23:58] WARNING: C:/Users/Administrator/workspace/xgboost-win64_release_1.5.1/src/learner.cc:1115: Starting in XGBoost 1.3.0, the default evaluation metric used with the objective 'binary:logistic' was changed from 'error' to 'logloss'. Explicitly set eval_metric if you'd like to restore the old behavior.\n",
      "XGBClassifier(base_score=0.5, booster='gbtree', colsample_bylevel=1,\n",
      "              colsample_bynode=1, colsample_bytree=1, enable_categorical=False,\n",
      "              eta=1.255, gamma=0, gpu_id=-1, importance_type=None,\n",
      "              interaction_constraints='', learning_rate=1.255, max_delta_step=0,\n",
      "              max_depth=6, min_child_weight=1, missing=nan,\n",
      "              monotone_constraints='()', n_estimators=100, n_jobs=8,\n",
      "              num_parallel_tree=1, predictor='auto', random_state=0,\n",
      "              reg_alpha=0, reg_lambda=1, scale_pos_weight=1, subsample=1,\n",
      "              tree_method='exact', validate_parameters=1, verbosity=None)\n"
     ]
    }
   ],
   "source": [
    "xgb = XGBClassifier(eta=1.255)\n",
    "xgb.fit(X_train, y_train.astype('int32'))\n",
    "print(xgb)"
   ]
  },
  {
   "cell_type": "markdown",
   "metadata": {},
   "source": [
    "### 训练集"
   ]
  },
  {
   "cell_type": "code",
   "execution_count": 4032,
   "metadata": {},
   "outputs": [
    {
     "name": "stdout",
     "output_type": "stream",
     "text": [
      "XGBoost模型在训练集上的准确率：0.996692\n"
     ]
    }
   ],
   "source": [
    "print('XGBoost模型在训练集上的准确率：%f' %xgb.score(X_train,y_train.astype('int32')))"
   ]
  },
  {
   "cell_type": "code",
   "execution_count": 4033,
   "metadata": {},
   "outputs": [
    {
     "name": "stdout",
     "output_type": "stream",
     "text": [
      "label      0     1    All\n",
      "row_0                    \n",
      "0      29219    89  29308\n",
      "1         20  3622   3642\n",
      "All    29239  3711  32950\n",
      "XGBoost模型在训练集上的f1_score：0.985176\n"
     ]
    }
   ],
   "source": [
    "xgb_pred_X_train = xgb.predict(X_train)\n",
    "print(pd.crosstab(xgb_pred_X_train, y_train, margins = True))\n",
    "\n",
    "f1_xgb_train = metrics.f1_score(xgb_pred_X_train, y_train)\n",
    "print('XGBoost模型在训练集上的f1_score：%f' %f1_xgb_train)"
   ]
  },
  {
   "cell_type": "markdown",
   "metadata": {},
   "source": [
    "### 测试集"
   ]
  },
  {
   "cell_type": "code",
   "execution_count": 4034,
   "metadata": {},
   "outputs": [
    {
     "name": "stdout",
     "output_type": "stream",
     "text": [
      "XGBoost模型在测试集上的准确率：0.902161\n"
     ]
    }
   ],
   "source": [
    "print('XGBoost模型在测试集上的准确率：%f' %xgb.score(X_test,y_test))"
   ]
  },
  {
   "cell_type": "code",
   "execution_count": 4035,
   "metadata": {},
   "outputs": [
    {
     "name": "stdout",
     "output_type": "stream",
     "text": [
      "label     0    1   All\n",
      "row_0                 \n",
      "0      6925  422  7347\n",
      "1       384  507   891\n",
      "All    7309  929  8238\n",
      "XGBoost模型在测试集上的f1_score：0.557143\n"
     ]
    }
   ],
   "source": [
    "xgb_pred_X_test = xgb.predict(X_test)\n",
    "print(pd.crosstab(xgb_pred_X_test, y_test, margins = True))\n",
    "\n",
    "f1_xgb_test = metrics.f1_score(xgb_pred_X_test, y_test)\n",
    "print('XGBoost模型在测试集上的f1_score：%f' %f1_xgb_test)"
   ]
  },
  {
   "cell_type": "markdown",
   "metadata": {
    "tags": []
   },
   "source": [
    "## LightGBM模型"
   ]
  },
  {
   "cell_type": "markdown",
   "metadata": {
    "tags": []
   },
   "source": [
    "## Catboost模型"
   ]
  },
  {
   "cell_type": "code",
   "execution_count": 4036,
   "metadata": {
    "tags": []
   },
   "outputs": [],
   "source": [
    "# cat = CatBoostClassifier()\n",
    "# cat.fit(X_train, y_train.astype('int32'))"
   ]
  },
  {
   "cell_type": "markdown",
   "metadata": {
    "tags": []
   },
   "source": [
    "### 训练集"
   ]
  },
  {
   "cell_type": "code",
   "execution_count": 4037,
   "metadata": {
    "tags": []
   },
   "outputs": [],
   "source": [
    "# print('XGBoost模型在训练集上的准确率：%f' %cat.score(X_train,y_train.astype('int32')))"
   ]
  },
  {
   "cell_type": "code",
   "execution_count": 4038,
   "metadata": {},
   "outputs": [],
   "source": [
    "# cat_pred_X_train = cat.predict(X_train)\n",
    "# print(pd.crosstab(cat_pred_X_train, y_train, margins = True))\n",
    "\n",
    "# f1_cat_train = metrics.f1_score(cat_pred_X_train, y_train)\n",
    "# print('XGBoost模型在训练集上的f1_score：%f' %f1_cat_train)"
   ]
  },
  {
   "cell_type": "markdown",
   "metadata": {
    "tags": []
   },
   "source": [
    "### 测试集"
   ]
  },
  {
   "cell_type": "code",
   "execution_count": 4039,
   "metadata": {},
   "outputs": [],
   "source": [
    "# print('XGBoost模型在测试集上的准确率：%f' %cat.score(X_test,y_test))"
   ]
  },
  {
   "cell_type": "code",
   "execution_count": 4040,
   "metadata": {},
   "outputs": [],
   "source": [
    "# cat_pred_X_test = cat.predict(X_test)\n",
    "# print(pd.crosstab(cat_pred_X_test, y_test, margins = True))\n",
    "\n",
    "# f1_cat_test = metrics.f1_score(cat_pred_X_test, y_test)\n",
    "# print('XGBoost模型在测试集上的f1_score：%f' %f1_cat_test)"
   ]
  },
  {
   "cell_type": "markdown",
   "metadata": {},
   "source": [
    "# 预测"
   ]
  },
  {
   "cell_type": "markdown",
   "metadata": {
    "tags": []
   },
   "source": [
    "## 载入预测集数据"
   ]
  },
  {
   "cell_type": "code",
   "execution_count": 4041,
   "metadata": {},
   "outputs": [
    {
     "data": {
      "text/html": [
       "<div>\n",
       "<style scoped>\n",
       "    .dataframe tbody tr th:only-of-type {\n",
       "        vertical-align: middle;\n",
       "    }\n",
       "\n",
       "    .dataframe tbody tr th {\n",
       "        vertical-align: top;\n",
       "    }\n",
       "\n",
       "    .dataframe thead th {\n",
       "        text-align: right;\n",
       "    }\n",
       "</style>\n",
       "<table border=\"1\" class=\"dataframe\">\n",
       "  <thead>\n",
       "    <tr style=\"text-align: right;\">\n",
       "      <th></th>\n",
       "      <th>id</th>\n",
       "      <th>age</th>\n",
       "      <th>job</th>\n",
       "      <th>marital</th>\n",
       "      <th>education</th>\n",
       "      <th>default</th>\n",
       "      <th>housing</th>\n",
       "      <th>loan</th>\n",
       "      <th>contact</th>\n",
       "      <th>month</th>\n",
       "      <th>...</th>\n",
       "      <th>duration</th>\n",
       "      <th>campaign</th>\n",
       "      <th>pdays</th>\n",
       "      <th>previous</th>\n",
       "      <th>poutcome</th>\n",
       "      <th>emp.var.rate</th>\n",
       "      <th>cons.price.idx</th>\n",
       "      <th>cons.conf.idx</th>\n",
       "      <th>euribor3m</th>\n",
       "      <th>nr.employed</th>\n",
       "    </tr>\n",
       "  </thead>\n",
       "  <tbody>\n",
       "    <tr>\n",
       "      <th>0</th>\n",
       "      <td>0</td>\n",
       "      <td>30</td>\n",
       "      <td>blue-collar</td>\n",
       "      <td>married</td>\n",
       "      <td>basic.9y</td>\n",
       "      <td>no</td>\n",
       "      <td>yes</td>\n",
       "      <td>no</td>\n",
       "      <td>cellular</td>\n",
       "      <td>may</td>\n",
       "      <td>...</td>\n",
       "      <td>487</td>\n",
       "      <td>2</td>\n",
       "      <td>999</td>\n",
       "      <td>0</td>\n",
       "      <td>nonexistent</td>\n",
       "      <td>-1.8</td>\n",
       "      <td>92.893</td>\n",
       "      <td>-46.2</td>\n",
       "      <td>1.313</td>\n",
       "      <td>5099.1</td>\n",
       "    </tr>\n",
       "    <tr>\n",
       "      <th>1</th>\n",
       "      <td>1</td>\n",
       "      <td>39</td>\n",
       "      <td>services</td>\n",
       "      <td>single</td>\n",
       "      <td>high.school</td>\n",
       "      <td>no</td>\n",
       "      <td>no</td>\n",
       "      <td>no</td>\n",
       "      <td>telephone</td>\n",
       "      <td>may</td>\n",
       "      <td>...</td>\n",
       "      <td>346</td>\n",
       "      <td>4</td>\n",
       "      <td>999</td>\n",
       "      <td>0</td>\n",
       "      <td>nonexistent</td>\n",
       "      <td>1.1</td>\n",
       "      <td>93.994</td>\n",
       "      <td>-36.4</td>\n",
       "      <td>4.855</td>\n",
       "      <td>5191.0</td>\n",
       "    </tr>\n",
       "    <tr>\n",
       "      <th>2</th>\n",
       "      <td>2</td>\n",
       "      <td>25</td>\n",
       "      <td>services</td>\n",
       "      <td>married</td>\n",
       "      <td>high.school</td>\n",
       "      <td>no</td>\n",
       "      <td>yes</td>\n",
       "      <td>no</td>\n",
       "      <td>telephone</td>\n",
       "      <td>jun</td>\n",
       "      <td>...</td>\n",
       "      <td>227</td>\n",
       "      <td>1</td>\n",
       "      <td>999</td>\n",
       "      <td>0</td>\n",
       "      <td>nonexistent</td>\n",
       "      <td>1.4</td>\n",
       "      <td>94.465</td>\n",
       "      <td>-41.8</td>\n",
       "      <td>4.962</td>\n",
       "      <td>5228.1</td>\n",
       "    </tr>\n",
       "  </tbody>\n",
       "</table>\n",
       "<p>3 rows × 21 columns</p>\n",
       "</div>"
      ],
      "text/plain": [
       "   id  age          job  marital    education default housing loan    contact  \\\n",
       "0   0   30  blue-collar  married     basic.9y      no     yes   no   cellular   \n",
       "1   1   39     services   single  high.school      no      no   no  telephone   \n",
       "2   2   25     services  married  high.school      no     yes   no  telephone   \n",
       "\n",
       "  month  ... duration  campaign  pdays  previous     poutcome emp.var.rate  \\\n",
       "0   may  ...      487         2    999         0  nonexistent         -1.8   \n",
       "1   may  ...      346         4    999         0  nonexistent          1.1   \n",
       "2   jun  ...      227         1    999         0  nonexistent          1.4   \n",
       "\n",
       "   cons.price.idx  cons.conf.idx  euribor3m  nr.employed  \n",
       "0          92.893          -46.2      1.313       5099.1  \n",
       "1          93.994          -36.4      4.855       5191.0  \n",
       "2          94.465          -41.8      4.962       5228.1  \n",
       "\n",
       "[3 rows x 21 columns]"
      ]
     },
     "execution_count": 4041,
     "metadata": {},
     "output_type": "execute_result"
    }
   ],
   "source": [
    "bank_prediction = pd.read_csv(r'bank_prediction.csv')\n",
    "bank_prediction.head(3)"
   ]
  },
  {
   "cell_type": "markdown",
   "metadata": {
    "tags": []
   },
   "source": [
    "## unknown值"
   ]
  },
  {
   "cell_type": "code",
   "execution_count": 4042,
   "metadata": {},
   "outputs": [],
   "source": [
    "# 替换unknown为每列的众数\n",
    "for col in bank_prediction.columns.tolist():\n",
    "    if (type(bank_prediction[col][0])) is str:\n",
    "        if ('unknown' in bank_prediction[col].tolist()):\n",
    "            col_mode = bank_prediction[col].mode()[0]\n",
    "            bank_prediction[col].replace('unknown', col_mode, inplace=True)"
   ]
  },
  {
   "cell_type": "markdown",
   "metadata": {
    "tags": []
   },
   "source": [
    "## 二元处理"
   ]
  },
  {
   "cell_type": "code",
   "execution_count": 4043,
   "metadata": {},
   "outputs": [],
   "source": [
    "# 二元处理\n",
    "# bank_prediction['pdays'] = bank_prediction.pdays.apply(lambda x : 1 if x == 999 else 0)\n",
    "bank_prediction.replace(['yes', 'no'], [1, 0], True)"
   ]
  },
  {
   "cell_type": "markdown",
   "metadata": {
    "tags": []
   },
   "source": [
    "## 删除列"
   ]
  },
  {
   "cell_type": "code",
   "execution_count": 4044,
   "metadata": {},
   "outputs": [],
   "source": [
    "bank_prediction.drop(columns=['id','default'],inplace=True)"
   ]
  },
  {
   "cell_type": "code",
   "execution_count": 4045,
   "metadata": {},
   "outputs": [],
   "source": [
    "# 经过饼状图和热力图分析，与label关系性不高\n",
    "# bank_prediction.drop(columns = ['loan'],inplace=True)\n",
    "# # emp.var.rate和euribor3m和nr.employed三者高度线性相关\n",
    "bank_prediction.drop(columns = ['nr.employed'])\n",
    "# # 经过饼状图分析与热力图分析，与label关系性不高\n",
    "bank_prediction.drop(columns = ['housing'],inplace=True)\n",
    "# # campaign经过热力图分析，与label关系性不高\n",
    "# bank_prediction.drop(columns = ['campaign'])"
   ]
  },
  {
   "cell_type": "code",
   "execution_count": 4046,
   "metadata": {},
   "outputs": [],
   "source": [
    "# 经过饼状图分析，与label关系性不高\n",
    "# bank_prediction.drop(columns = ['day_of_week'],inplace=True)"
   ]
  },
  {
   "cell_type": "markdown",
   "metadata": {
    "tags": []
   },
   "source": [
    "## 编码"
   ]
  },
  {
   "cell_type": "markdown",
   "metadata": {},
   "source": [
    "### 二元变量编码"
   ]
  },
  {
   "cell_type": "code",
   "execution_count": 4047,
   "metadata": {},
   "outputs": [],
   "source": [
    "# contact\n",
    "bank_prediction.replace(['cellular', 'telephone'], [1, 0], True)"
   ]
  },
  {
   "cell_type": "markdown",
   "metadata": {},
   "source": [
    "### 序数编码"
   ]
  },
  {
   "cell_type": "code",
   "execution_count": 4048,
   "metadata": {},
   "outputs": [],
   "source": [
    "# education\n",
    "edu_map = {\"illiterate\": 0, \"basic.4y\": 1, \"basic.6y\": 2, \"basic.9y\": 3, \"high.school\": 4, \"professional.course\": 5, \"university.degree\": 6}\n",
    "bank_prediction['education'] = bank_prediction.education.map(edu_map)"
   ]
  },
  {
   "cell_type": "code",
   "execution_count": 4049,
   "metadata": {},
   "outputs": [],
   "source": [
    "# month\n",
    "# mon_map = {'jan': 1, 'feb': 2, 'mar': 3, 'apr':4, 'may': 5, 'jun': 6, 'jul': 7, 'aug': 8, 'sep': 9, 'oct':10, 'nov': 11, 'dec': 12}\n",
    "mon_map = {'mar': 0, 'apr':1, 'may': 2, 'jun': 3, 'jul': 4, 'aug': 5, 'sep': 6, 'oct':7, 'nov': 8, 'dec': 9}\n",
    "bank_prediction['month'] = bank_prediction.month.map(mon_map)"
   ]
  },
  {
   "cell_type": "code",
   "execution_count": 4050,
   "metadata": {},
   "outputs": [],
   "source": [
    "# day_of_week\n",
    "week_map = {'mon': 0, 'tue': 1, 'wed': 2, 'thu': 3, 'fri': 4}\n",
    "bank_prediction['day_of_week'] = bank_prediction.day_of_week.map(week_map)"
   ]
  },
  {
   "cell_type": "code",
   "execution_count": 4051,
   "metadata": {},
   "outputs": [],
   "source": [
    "# job\n",
    "joblist = [\"admin.\", \"blue-collar\", \"entrepreneur\", \"housemaid\", \"management\", \"retired\", \"self-employed\", \"services\", \"student\", \"technician\", \"unemployed\"]\n",
    "jobvalue = [i for i in range(0, len(joblist))]\n",
    "bank_prediction['job'].replace(joblist, jobvalue, True)"
   ]
  },
  {
   "cell_type": "markdown",
   "metadata": {},
   "source": [
    "### 独热编码"
   ]
  },
  {
   "cell_type": "code",
   "execution_count": 4052,
   "metadata": {},
   "outputs": [],
   "source": [
    "# marital\n",
    "ohc = OneHotEncoder()\n",
    "ohe = ohc.fit_transform(bank_prediction.marital.values.reshape(-1,1)).toarray()\n",
    "maritalOneHot = pd.DataFrame(ohe,columns=[\"marital_\" + str(ohc.categories_[0][i]) for i in range(len(ohc.categories_[0]))])\n",
    "bank_prediction.drop(columns='marital', inplace=True)\n",
    "bank_prediction = pd.concat([bank_prediction,maritalOneHot],axis=1)"
   ]
  },
  {
   "cell_type": "code",
   "execution_count": 4053,
   "metadata": {},
   "outputs": [],
   "source": [
    "# poutcome\n",
    "ohc = OneHotEncoder()\n",
    "ohe = ohc.fit_transform(bank_prediction.poutcome.values.reshape(-1,1)).toarray()\n",
    "poutOneHot= pd.DataFrame(ohe,columns=[\"poutcome_\" + str(ohc.categories_[0][i]) for i in range(len(ohc.categories_[0]))])\n",
    "bank_prediction.drop(columns='poutcome', inplace=True)\n",
    "bank_prediction = pd.concat([bank_prediction,poutOneHot],axis=1)"
   ]
  },
  {
   "cell_type": "markdown",
   "metadata": {},
   "source": [
    "## 加载训练好的模型\n",
    "**注意**：仅修改模型名称（knn、gbdt）为自己训练好的模型名称，其余代码别改。"
   ]
  },
  {
   "cell_type": "code",
   "execution_count": 4054,
   "metadata": {},
   "outputs": [],
   "source": [
    "ids = pd.read_csv('./bank_prediction.csv')"
   ]
  },
  {
   "cell_type": "markdown",
   "metadata": {
    "jp-MarkdownHeadingCollapsed": true,
    "tags": []
   },
   "source": [
    "### KNN模型"
   ]
  },
  {
   "cell_type": "code",
   "execution_count": 4055,
   "metadata": {},
   "outputs": [],
   "source": [
    "# out_knn = knn.predict(bank_prediction)"
   ]
  },
  {
   "cell_type": "code",
   "execution_count": 4056,
   "metadata": {},
   "outputs": [],
   "source": [
    "# result_knn = pd.DataFrame(columns=['id','label_predicted'])\n",
    "# result_knn['id'] = ids['id']\n",
    "# result_knn['label_predicted']= pd.Series(out_knn)"
   ]
  },
  {
   "cell_type": "code",
   "execution_count": 4057,
   "metadata": {},
   "outputs": [],
   "source": [
    "# # 保存预测结果\n",
    "# result_knn.to_csv('result_knn.csv',index=0)"
   ]
  },
  {
   "cell_type": "markdown",
   "metadata": {},
   "source": [
    "### XGBoost模型"
   ]
  },
  {
   "cell_type": "code",
   "execution_count": 4058,
   "metadata": {},
   "outputs": [],
   "source": [
    "out_xgb = xgb.predict(bank_prediction)"
   ]
  },
  {
   "cell_type": "code",
   "execution_count": 4059,
   "metadata": {},
   "outputs": [],
   "source": [
    "result_xgb = pd.DataFrame(columns=['id','label_predicted'])\n",
    "result_xgb['id'] = ids['id']\n",
    "result_xgb['label_predicted']= pd.Series(out_xgb)"
   ]
  },
  {
   "cell_type": "code",
   "execution_count": 4060,
   "metadata": {},
   "outputs": [],
   "source": [
    "# 保存预测结果\n",
    "result_xgb.to_csv('result_xgb.csv',index=0)"
   ]
  },
  {
   "cell_type": "markdown",
   "metadata": {},
   "source": [
    "### LightGBM模型"
   ]
  },
  {
   "cell_type": "markdown",
   "metadata": {
    "jp-MarkdownHeadingCollapsed": true,
    "tags": []
   },
   "source": [
    "### Catboost"
   ]
  },
  {
   "cell_type": "code",
   "execution_count": 4061,
   "metadata": {},
   "outputs": [],
   "source": [
    "# out_cat = cat.predict(bank_prediction)"
   ]
  },
  {
   "cell_type": "code",
   "execution_count": 4062,
   "metadata": {},
   "outputs": [],
   "source": [
    "# result_cat = pd.DataFrame(columns=['id','label_predicted'])\n",
    "# result_cat['id'] = ids['id']\n",
    "# result_cat['label_predicted']= pd.Series(out_cat)"
   ]
  },
  {
   "cell_type": "code",
   "execution_count": 4063,
   "metadata": {},
   "outputs": [],
   "source": [
    "# 保存预测结果\n",
    "# result_cat.to_csv('result_cat.csv',index=0)"
   ]
  },
  {
   "cell_type": "markdown",
   "metadata": {},
   "source": [
    "# 最终评分"
   ]
  },
  {
   "cell_type": "markdown",
   "metadata": {
    "tags": []
   },
   "source": [
    "## KNN模型"
   ]
  },
  {
   "cell_type": "code",
   "execution_count": 4064,
   "metadata": {
    "jupyter": {
     "source_hidden": true
    },
    "tags": []
   },
   "outputs": [],
   "source": [
    "# # -*- coding:utf-8 -*-\n",
    "# # Author : YongMing Cai\n",
    "# # Data : 2020/6/25 7:30\n",
    "\n",
    "# import pandas as pd\n",
    "# import numpy as np\n",
    "# from sklearn import metrics\n",
    "\n",
    "\n",
    "# metric_mash_np2 = np.load('evaluate.npy')\n",
    "# metric_mash = pd.DataFrame(metric_mash_np2)\n",
    "# metric_mash.columns = ['id', 'label_real']\n",
    "\n",
    "\n",
    "# data_predicted = pd.read_csv('result_knn.csv')  #\n",
    "\n",
    "# data = pd.merge(metric_mash, data_predicted, how='left', on='id')\n",
    "# accuracy = data.label_real[(data.label_real == data.label_predicted)].count() / len(data.label_real)\n",
    "# f1_score = metrics.f1_score(data.label_real, data.label_predicted)\n",
    "\n",
    "# print(pd.crosstab(data.label_predicted, data.label_real, margins=True))\n",
    "\n",
    "# print('-'*50)\n",
    "# print('在预测集上，你的f1_score值为：%.4f' % f1_score)\n"
   ]
  },
  {
   "cell_type": "markdown",
   "metadata": {},
   "source": [
    "## XGBoost模型"
   ]
  },
  {
   "cell_type": "code",
   "execution_count": 4065,
   "metadata": {
    "tags": []
   },
   "outputs": [
    {
     "name": "stdout",
     "output_type": "stream",
     "text": [
      "label_real          0    1   All\n",
      "label_predicted                 \n",
      "0                3628   53  3681\n",
      "1                  40  398   438\n",
      "All              3668  451  4119\n",
      "--------------------------------------------------\n",
      "在预测集上，你的f1_score值为：0.8954\n"
     ]
    }
   ],
   "source": [
    "metric_mash_np2 = np.load('evaluate.npy')\n",
    "metric_mash = pd.DataFrame(metric_mash_np2)\n",
    "metric_mash.columns = ['id', 'label_real']\n",
    "\n",
    "\n",
    "data_predicted = pd.read_csv('result_xgb.csv')  #\n",
    "\n",
    "data = pd.merge(metric_mash, data_predicted, how='left', on='id')\n",
    "accuracy = data.label_real[(data.label_real == data.label_predicted)].count() / len(data.label_real)\n",
    "f1_score = metrics.f1_score(data.label_real, data.label_predicted)\n",
    "\n",
    "print(pd.crosstab(data.label_predicted, data.label_real, margins=True))\n",
    "\n",
    "print('-'*50)\n",
    "print('在预测集上，你的f1_score值为：%.4f' % f1_score)"
   ]
  },
  {
   "cell_type": "markdown",
   "metadata": {
    "tags": []
   },
   "source": [
    "## LightGBM模型"
   ]
  },
  {
   "cell_type": "markdown",
   "metadata": {
    "tags": []
   },
   "source": [
    "## Catboost模型"
   ]
  },
  {
   "cell_type": "code",
   "execution_count": 4066,
   "metadata": {},
   "outputs": [],
   "source": [
    "# metric_mash_np2 = np.load('evaluate.npy')\n",
    "# metric_mash = pd.DataFrame(metric_mash_np2)\n",
    "# metric_mash.columns = ['id', 'label_real']\n",
    "\n",
    "\n",
    "# data_predicted = pd.read_csv('result_cat.csv')  #\n",
    "\n",
    "# data = pd.merge(metric_mash, data_predicted, how='left', on='id')\n",
    "# accuracy = data.label_real[(data.label_real == data.label_predicted)].count() / len(data.label_real)\n",
    "# f1_score = metrics.f1_score(data.label_real, data.label_predicted)\n",
    "\n",
    "# print(pd.crosstab(data.label_predicted, data.label_real, margins=True))\n",
    "\n",
    "# print('-'*50)\n",
    "# print('在预测集上，你的f1_score值为：%.4f' % f1_score)"
   ]
  }
 ],
 "metadata": {
  "anaconda-cloud": {},
  "celltoolbar": "Raw Cell Format",
  "kernelspec": {
   "display_name": "dataMining",
   "language": "python",
   "name": "datamining"
  },
  "language_info": {
   "codemirror_mode": {
    "name": "ipython",
    "version": 3
   },
   "file_extension": ".py",
   "mimetype": "text/x-python",
   "name": "python",
   "nbconvert_exporter": "python",
   "pygments_lexer": "ipython3",
   "version": "3.6.13"
  },
  "toc": {
   "base_numbering": 1,
   "nav_menu": {},
   "number_sections": true,
   "sideBar": true,
   "skip_h1_title": false,
   "title_cell": "Table of Contents",
   "title_sidebar": "Contents",
   "toc_cell": false,
   "toc_position": {
    "height": "calc(100% - 180px)",
    "left": "10px",
    "top": "150px",
    "width": "307.6px"
   },
   "toc_section_display": true,
   "toc_window_display": true
  },
  "toc-autonumbering": true,
  "varInspector": {
   "cols": {
    "lenName": 16,
    "lenType": 16,
    "lenVar": 40
   },
   "kernels_config": {
    "python": {
     "delete_cmd_postfix": "",
     "delete_cmd_prefix": "del ",
     "library": "var_list.py",
     "varRefreshCmd": "print(var_dic_list())"
    },
    "r": {
     "delete_cmd_postfix": ") ",
     "delete_cmd_prefix": "rm(",
     "library": "var_list.r",
     "varRefreshCmd": "cat(var_dic_list()) "
    }
   },
   "types_to_exclude": [
    "module",
    "function",
    "builtin_function_or_method",
    "instance",
    "_Feature"
   ],
   "window_display": false
  }
 },
 "nbformat": 4,
 "nbformat_minor": 4
}
